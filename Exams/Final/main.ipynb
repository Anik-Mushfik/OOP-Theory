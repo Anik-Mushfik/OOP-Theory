{
 "cells": [
  {
   "cell_type": "code",
   "execution_count": 4,
   "metadata": {},
   "outputs": [
    {
     "name": "stdout",
     "output_type": "stream",
     "text": [
      "10000.0\n",
      "Your balance is negative!!!\n",
      "None\n",
      "Interest rate must be between the range of (0 and 1)\n",
      "None\n"
     ]
    }
   ],
   "source": [
    "class NegativeBalanceError(Exception):\n",
    "    \"\"\"Gives error if the balance is negative\"\"\"\n",
    "    pass\n",
    "\n",
    "class InvalidInterestRateError(Exception):\n",
    "    \"\"\"Gives errror if interest rate is not in range [0,1]\"\"\"\n",
    "    pass\n",
    "\n",
    "def calculateInterest(balance, rate):\n",
    "\n",
    "    try:\n",
    "        if (balance < 0):\n",
    "            raise NegativeBalanceError(\"Your balance is negative!!!\")\n",
    "        elif (0 >= rate or rate >= 1):\n",
    "            raise InvalidInterestRateError(\"Interest rate must be between the range of (0 and 1)\")\n",
    "        \n",
    "    except NegativeBalanceError as nbe:\n",
    "        print(nbe)s\n",
    "    except InvalidInterestRateError as iire:\n",
    "        print(iire)\n",
    "\n",
    "    else:\n",
    "        interest = balance * rate\n",
    "        return interest\n",
    "    \n",
    "print(calculateInterest(50000, 0.2))\n",
    "print(calculateInterest(-2000, 0.3))\n",
    "print(calculateInterest(20000, 2))\n"
   ]
  },
  {
   "cell_type": "code",
   "execution_count": 9,
   "metadata": {},
   "outputs": [
    {
     "name": "stdout",
     "output_type": "stream",
     "text": [
      "Input is valid\n",
      "TypeError occured: Input must be an integer\n",
      "ValueError occured: Input must be a positive integer\n",
      "ValueError occured: Input must be an even number\n"
     ]
    }
   ],
   "source": [
    "def process_input(value):\n",
    "    try:\n",
    "        if not isinstance(value, int):\n",
    "            raise TypeError(\"Input must be an integer\")\n",
    "        elif value < 0:\n",
    "            raise ValueError(\"Input must be a positive integer\")\n",
    "        elif value % 2 != 0:\n",
    "            raise ValueError(\"Input must be an even number\")\n",
    "        else:\n",
    "            print(\"Input is valid\")\n",
    "\n",
    "    except TypeError as te:\n",
    "        print(\"TypeError occured:\", te)\n",
    "\n",
    "    except ValueError as ve:\n",
    "        print(\"ValueError occured:\", ve)\n",
    "    \n",
    "    except Exception as e:\n",
    "        print(\"An exception occured:\", e)\n",
    "\n",
    "\n",
    "process_input(10)\n",
    "process_input(\"hello\")\n",
    "process_input(-5)\n",
    "process_input(7)"
   ]
  },
  {
   "cell_type": "code",
   "execution_count": 10,
   "metadata": {},
   "outputs": [
    {
     "name": "stdout",
     "output_type": "stream",
     "text": [
      "2\n",
      "1\n",
      "4\n",
      "3\n",
      "6\n",
      "5\n",
      "8\n",
      "7\n",
      "10\n",
      "9\n"
     ]
    }
   ],
   "source": [
    "def even_generator():\n",
    "    num = 2\n",
    "    while True:\n",
    "        yield num\n",
    "        num += 2\n",
    "\n",
    "def odd_generator():\n",
    "    num = 1\n",
    "    while True:\n",
    "        yield num\n",
    "        num += 2\n",
    "\n",
    "\n",
    "def alternate_generator():\n",
    "    even_gen = even_generator()\n",
    "    odd_gen = odd_generator()\n",
    "\n",
    "    while True:\n",
    "        try:\n",
    "            yield next(even_gen)\n",
    "            yield next(odd_gen)\n",
    "        except StopIteration:\n",
    "            break\n",
    "\n",
    "\n",
    "gen = alternate_generator()\n",
    "\n",
    "for _ in range(10):\n",
    "    print(next(gen))"
   ]
  }
 ],
 "metadata": {
  "kernelspec": {
   "display_name": "Python 3",
   "language": "python",
   "name": "python3"
  },
  "language_info": {
   "codemirror_mode": {
    "name": "ipython",
    "version": 3
   },
   "file_extension": ".py",
   "mimetype": "text/x-python",
   "name": "python",
   "nbconvert_exporter": "python",
   "pygments_lexer": "ipython3",
   "version": "3.12.3"
  }
 },
 "nbformat": 4,
 "nbformat_minor": 2
}
