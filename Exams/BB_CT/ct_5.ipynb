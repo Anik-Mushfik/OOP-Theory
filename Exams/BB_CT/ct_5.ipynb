{
 "cells": [
  {
   "cell_type": "markdown",
   "metadata": {},
   "source": [
    "# Qustion no: 1\n",
    "## **(a)**"
   ]
  },
  {
   "cell_type": "code",
   "execution_count": 1,
   "metadata": {},
   "outputs": [
    {
     "name": "stdout",
     "output_type": "stream",
     "text": [
      "0 2 4 6 8 "
     ]
    }
   ],
   "source": [
    "def even_numbers():\n",
    "    num = 0\n",
    "    while True:\n",
    "        yield num\n",
    "        num += 2\n",
    "evens = even_numbers()\n",
    "\n",
    "for _ in range(5):\n",
    "    print(next(evens), end=' ')\n"
   ]
  },
  {
   "cell_type": "markdown",
   "metadata": {},
   "source": [
    "## **(b)**"
   ]
  },
  {
   "cell_type": "code",
   "execution_count": 2,
   "metadata": {},
   "outputs": [
    {
     "name": "stdout",
     "output_type": "stream",
     "text": [
      "      Name  Age  Salary\n",
      "1      Bob   30   60000\n",
      "2  Charlie   35   70000\n"
     ]
    }
   ],
   "source": [
    "import pandas as pd\n",
    "\n",
    "data = {'Name': ['Alice', 'Bob', 'Charlie'],\n",
    "        'Age': [25, 30, 35],\n",
    "        'Salary': [50000, 60000, 70000]}\n",
    "\n",
    "df = pd.DataFrame(data)\n",
    "print(df[df['Age'] > 28])\n"
   ]
  },
  {
   "cell_type": "markdown",
   "metadata": {},
   "source": [
    "# Qustion no: 2"
   ]
  },
  {
   "cell_type": "markdown",
   "metadata": {},
   "source": [
    "\n",
    "Write a python decorator that will enhance a function's ability by changing what it returns. The\n",
    "name of the decorator will be enhanced. If the function returns a number it will double that. In case a string is returned it will concat the same string at the end. Write the code of the decorator and show how it works with different types of cases.\n",
    "\n"
   ]
  },
  {
   "cell_type": "code",
   "execution_count": 3,
   "metadata": {},
   "outputs": [
    {
     "name": "stdout",
     "output_type": "stream",
     "text": [
      "10\n",
      "TasuTasu\n"
     ]
    }
   ],
   "source": [
    "def enhanced(func):\n",
    "    def wrapper(*args, **kwargs):\n",
    "        if isinstance(args[0], int):\n",
    "            new_parameter = args[0] * 2\n",
    "        \n",
    "        elif isinstance(args[0], str):\n",
    "            new_parameter = args[0] + args[0]\n",
    "\n",
    "        return func(new_parameter)\n",
    "        \n",
    "    return wrapper\n",
    "\n",
    "\n",
    "@enhanced\n",
    "def my_func(parameter):\n",
    "    print(parameter)\n",
    "\n",
    "\n",
    "my_func(5)\n",
    "my_func(\"Tasu\")\n"
   ]
  }
 ],
 "metadata": {
  "kernelspec": {
   "display_name": "Python 3",
   "language": "python",
   "name": "python3"
  },
  "language_info": {
   "codemirror_mode": {
    "name": "ipython",
    "version": 3
   },
   "file_extension": ".py",
   "mimetype": "text/x-python",
   "name": "python",
   "nbconvert_exporter": "python",
   "pygments_lexer": "ipython3",
   "version": "3.12.3"
  }
 },
 "nbformat": 4,
 "nbformat_minor": 2
}
